{
 "cells": [
  {
   "cell_type": "code",
   "execution_count": 1,
   "id": "0646593d",
   "metadata": {},
   "outputs": [],
   "source": [
    "from pathlib import Path\n",
    "import sys\n",
    "\n",
    "ROOT_DIR = Path.cwd().parent\n",
    "sys.path.insert(0, str(ROOT_DIR))"
   ]
  },
  {
   "cell_type": "code",
   "execution_count": null,
   "id": "a9af32db",
   "metadata": {},
   "outputs": [
    {
     "name": "stderr",
     "output_type": "stream",
     "text": [
      "2025-09-02 20:28:09.493274: E external/local_xla/xla/stream_executor/cuda/cuda_platform.cc:51] failed call to cuInit: INTERNAL: CUDA error: Failed call to cuInit: UNKNOWN ERROR (303)\n"
     ]
    },
    {
     "name": "stdout",
     "output_type": "stream",
     "text": [
      "Labels: {1: 'Acral Lentiginous Melanoma', 2: 'Beaus Line', 3: 'Blue Finger', 4: 'Clubbing', 5: 'Healthy Nail', 6: 'Koilonychia', 7: 'Lindsay-s Nail', 8: 'Muehrckes Lines', 9: 'Onychogryphosis', 10: 'Pitting', 11: 'Terry-s Nail'}\n"
     ]
    },
    {
     "name": "stderr",
     "output_type": "stream",
     "text": [
      "0it [00:00, ?it/s]2025-09-02 20:28:09.579806: I tensorflow/core/kernels/data/tf_record_dataset_op.cc:390] TFRecordDataset `buffer_size` is unspecified, default to 262144\n",
      "285it [00:00, 414.47it/s]2025-09-02 20:28:10.335840: I tensorflow/core/framework/local_rendezvous.cc:407] Local rendezvous is aborting with status: OUT_OF_RANGE: End of sequence\n",
      "307it [00:00, 399.17it/s]\n"
     ]
    }
   ],
   "source": [
    "import re\n",
    "import tensorflow as tf\n",
    "from pathlib import Path\n",
    "import os\n",
    "import cv2\n",
    "import numpy as np\n",
    "\n",
    "DATA_DIR = ROOT_DIR / \"data_src\" / \"TFRecord\"\n",
    "YOLO_DIR = ROOT_DIR / \"data_src\" / \"YOLO\"\n",
    "\n",
    "# --- Robust label map loader ---\n",
    "\n",
    "\n",
    "def load_label_map(path):\n",
    "    with open(path, \"r\") as f:\n",
    "        text = f.read()\n",
    "    matches = re.findall(r'id:\\s*(\\d+).*?name:\\s*\"([^\"]+)\"', text, re.DOTALL)\n",
    "    return {int(id_str): name for id_str, name in matches}\n",
    "\n",
    "# --- TFRecord parser ---\n",
    "\n",
    "\n",
    "def parse_tfrecord_fn(example_proto):\n",
    "    feature_description = {\n",
    "        \"image/encoded\": tf.io.FixedLenFeature([], tf.string),\n",
    "        \"image/filename\": tf.io.FixedLenFeature([], tf.string, default_value=\"\"),\n",
    "        \"image/height\": tf.io.FixedLenFeature([], tf.int64),\n",
    "        \"image/width\": tf.io.FixedLenFeature([], tf.int64),\n",
    "        \"image/object/bbox/xmin\": tf.io.VarLenFeature(tf.float32),\n",
    "        \"image/object/bbox/xmax\": tf.io.VarLenFeature(tf.float32),\n",
    "        \"image/object/bbox/ymin\": tf.io.VarLenFeature(tf.float32),\n",
    "        \"image/object/bbox/ymax\": tf.io.VarLenFeature(tf.float32),\n",
    "        \"image/object/class/label\": tf.io.VarLenFeature(tf.int64),\n",
    "    }\n",
    "    return tf.io.parse_single_example(example_proto, feature_description)\n",
    "\n",
    "\n",
    "# --- Create YOLO directories ---\n",
    "for folder in [\"images\", \"labels\"]:\n",
    "    for split in [\"train\", \"valid\", \"test\"]:\n",
    "        out_dir = YOLO_DIR / folder / split\n",
    "        out_dir.mkdir(parents=True, exist_ok=True)\n",
    "\n",
    "# --- Loop through dataset splits ---\n",
    "splits = [\"train\", \"valid\", \"test\"]\n",
    "\n",
    "for split in splits:\n",
    "    split_dir = DATA_DIR / split\n",
    "    tfrecord_path = split_dir / \"Diseases.tfrecord\"\n",
    "    label_map_path = split_dir / \"Diseases_label_map.pbtxt\"\n",
    "\n",
    "    # load label map\n",
    "    label_map = load_label_map(label_map_path)\n",
    "    name_to_id = {v: k for k, v in label_map.items()}  # reverse if needed\n",
    "\n",
    "    # read tfrecord\n",
    "    raw_dataset = tf.data.TFRecordDataset(str(tfrecord_path))\n",
    "    parsed_dataset = raw_dataset.map(parse_tfrecord_fn)\n",
    "\n",
    "    for record in parsed_dataset:\n",
    "        filename = record[\"image/filename\"].numpy().decode()\n",
    "        image = tf.io.decode_jpeg(record[\"image/encoded\"]).numpy()\n",
    "        h, w = image.shape[:2]\n",
    "\n",
    "        # save image\n",
    "        img_out_path = YOLO_DIR / \"images\" / split / filename\n",
    "        cv2.imwrite(str(img_out_path), cv2.cvtColor(image, cv2.COLOR_RGB2BGR))\n",
    "\n",
    "        # get bboxes\n",
    "        xmins = tf.sparse.to_dense(record[\"image/object/bbox/xmin\"]).numpy()\n",
    "        xmaxs = tf.sparse.to_dense(record[\"image/object/bbox/xmax\"]).numpy()\n",
    "        ymins = tf.sparse.to_dense(record[\"image/object/bbox/ymin\"]).numpy()\n",
    "        ymaxs = tf.sparse.to_dense(record[\"image/object/bbox/ymax\"]).numpy()\n",
    "        labels = tf.sparse.to_dense(record[\"image/object/class/label\"]).numpy()\n",
    "\n",
    "        # write YOLO labels\n",
    "        label_out_path = YOLO_DIR / \"labels\" / \\\n",
    "            split / (Path(filename).stem + \".txt\")\n",
    "        with open(label_out_path, \"w\") as f:\n",
    "            for xmin, xmax, ymin, ymax, cls in zip(xmins, xmaxs, ymins, ymaxs, labels):\n",
    "                # convert to YOLO normalized format\n",
    "                x_center = ((xmin + xmax) / 2.0)\n",
    "                y_center = ((ymin + ymax) / 2.0)\n",
    "                bbox_w = xmax - xmin\n",
    "                bbox_h = ymax - ymin\n",
    "\n",
    "                f.write(\n",
    "                    f\"{cls-1} {x_center:.6f} {y_center:.6f} {bbox_w:.6f} {bbox_h:.6f}\\n\")\n",
    "\n",
    "    print(f\"✅ Finished {split}\")"
   ]
  },
  {
   "cell_type": "code",
   "execution_count": null,
   "id": "a4204a04",
   "metadata": {},
   "outputs": [],
   "source": []
  }
 ],
 "metadata": {
  "kernelspec": {
   "display_name": ".venv",
   "language": "python",
   "name": "python3"
  },
  "language_info": {
   "codemirror_mode": {
    "name": "ipython",
    "version": 3
   },
   "file_extension": ".py",
   "mimetype": "text/x-python",
   "name": "python",
   "nbconvert_exporter": "python",
   "pygments_lexer": "ipython3",
   "version": "3.13.7"
  }
 },
 "nbformat": 4,
 "nbformat_minor": 5
}
