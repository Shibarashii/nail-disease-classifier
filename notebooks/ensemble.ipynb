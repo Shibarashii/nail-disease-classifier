{
 "cells": [
  {
   "cell_type": "markdown",
   "id": "18974e3d",
   "metadata": {},
   "source": [
    "# **Ensemble Learning**\n"
   ]
  },
  {
   "cell_type": "markdown",
   "id": "347256d8",
   "metadata": {},
   "source": [
    "Defining root folder for root resources access such as `data/` and `utils/`\n"
   ]
  },
  {
   "cell_type": "code",
   "execution_count": 2,
   "id": "1067332a",
   "metadata": {},
   "outputs": [],
   "source": [
    "from pathlib import Path\n",
    "import sys\n",
    "\n",
    "ROOT_DIR = Path.cwd().parent\n",
    "sys.path.insert(0, str(ROOT_DIR))"
   ]
  },
  {
   "cell_type": "markdown",
   "id": "4db8d303",
   "metadata": {},
   "source": [
    "## **Importing libraries**\n"
   ]
  },
  {
   "cell_type": "code",
   "execution_count": 3,
   "id": "fb2b5194",
   "metadata": {},
   "outputs": [
    {
     "name": "stderr",
     "output_type": "stream",
     "text": [
      "/home/shiba/Programming/nail-disease-classifier/.venv/lib/python3.13/site-packages/tqdm/auto.py:21: TqdmWarning: IProgress not found. Please update jupyter and ipywidgets. See https://ipywidgets.readthedocs.io/en/stable/user_install.html\n",
      "  from .autonotebook import tqdm as notebook_tqdm\n"
     ]
    }
   ],
   "source": [
    "import numpy as np\n",
    "import pandas as pd\n",
    "import matplotlib.pyplot as plt\n",
    "import torch\n",
    "import torchvision\n",
    "from pathlib import Path\n",
    "from torch import nn\n",
    "from utils import helpers\n",
    "import os\n",
    "from PIL import Image"
   ]
  },
  {
   "cell_type": "markdown",
   "id": "99ff102e",
   "metadata": {},
   "source": [
    "## Loading the data\n"
   ]
  },
  {
   "cell_type": "code",
   "execution_count": 4,
   "id": "ae30bb61",
   "metadata": {},
   "outputs": [],
   "source": [
    "from torchvision.datasets import ImageFolder\n",
    "from torchvision import transforms as T\n",
    "from torch.utils.data import DataLoader\n",
    "\n",
    "\n",
    "# Normalization and transforming data into tensors\n",
    "transform = T.Compose([\n",
    "    T.Resize(size=(224, 224)),\n",
    "    T.ToTensor(),\n",
    "    T.Normalize(mean=[0.485, 0.456, 0.406],\n",
    "                std=[0.229, 0.224, 0.225])\n",
    "])\n",
    "\n",
    "DATA_DIR = ROOT_DIR / \"data\"\n",
    "TEST_DIR = DATA_DIR / \"test\"\n",
    "test_data = ImageFolder(root=TEST_DIR,\n",
    "                        transform=transform,\n",
    "                        target_transform=None)\n",
    "\n",
    "class_names = test_data.classes\n",
    "num_classes = len(class_names)\n",
    "\n",
    "# Test Dataloader\n",
    "BATCH_SIZE = 32\n",
    "NUM_WORKERS = os.cpu_count()\n",
    "\n",
    "test_dataloader = DataLoader(dataset=test_data,\n",
    "                             batch_size=BATCH_SIZE,\n",
    "                             num_workers=NUM_WORKERS,\n",
    "                             shuffle=False)\n",
    "\n",
    "# Device agnostic code\n",
    "device = \"cuda\" if torch.cuda.is_available() else \"cpu\""
   ]
  },
  {
   "cell_type": "markdown",
   "id": "a53dcd27",
   "metadata": {},
   "source": [
    "## Models\n"
   ]
  },
  {
   "cell_type": "code",
   "execution_count": 5,
   "id": "fc6bfc43",
   "metadata": {},
   "outputs": [],
   "source": [
    "OUTPUTS_PATH = ROOT_DIR / \"outputs\""
   ]
  },
  {
   "cell_type": "markdown",
   "id": "6ad87e67",
   "metadata": {},
   "source": [
    "### EfficientNetV2S\n"
   ]
  },
  {
   "cell_type": "code",
   "execution_count": 6,
   "id": "f13427a5",
   "metadata": {},
   "outputs": [
    {
     "data": {
      "text/plain": [
       "<All keys matched successfully>"
      ]
     },
     "execution_count": 6,
     "metadata": {},
     "output_type": "execute_result"
    }
   ],
   "source": [
    "from torchvision import models\n",
    "\n",
    "MODEL_NAME = \"efficientnetv2s\"\n",
    "EPOCH = 5\n",
    "\n",
    "# Rebuilding model\n",
    "efficientnetv2s = models.efficientnet_v2_s()\n",
    "efficientnetv2s.classifier[1] = nn.Linear(\n",
    "    efficientnetv2s.classifier[1].in_features, num_classes)\n",
    "efficientnetv2s = efficientnetv2s.to(device)\n",
    "\n",
    "# Loading weights\n",
    "WEIGHTS_PATH = OUTPUTS_PATH / MODEL_NAME / \\\n",
    "    \"weights\" / f\"{MODEL_NAME}_epoch{EPOCH}.pth\"\n",
    "state_dict = torch.load(f=WEIGHTS_PATH, map_location=device)\n",
    "efficientnetv2s.load_state_dict(state_dict=state_dict)"
   ]
  },
  {
   "cell_type": "markdown",
   "id": "aebec4d5",
   "metadata": {},
   "source": [
    "### SwinV2B\n"
   ]
  },
  {
   "cell_type": "code",
   "execution_count": 7,
   "id": "e3290a34",
   "metadata": {},
   "outputs": [
    {
     "data": {
      "text/plain": [
       "<All keys matched successfully>"
      ]
     },
     "execution_count": 7,
     "metadata": {},
     "output_type": "execute_result"
    }
   ],
   "source": [
    "MODEL_NAME = \"swinv2b\"\n",
    "EPOCH = 5\n",
    "\n",
    "# Rebuilding Model\n",
    "swinv2b = models.swin_v2_b()\n",
    "swinv2b.head = nn.Linear(in_features=1024, out_features=num_classes, bias=True)\n",
    "swinv2b.to(device)\n",
    "\n",
    "# Loading weights\n",
    "WEIGHTS_PATH = OUTPUTS_PATH / MODEL_NAME / \\\n",
    "    \"weights\" / f\"{MODEL_NAME}_epoch{EPOCH}.pth\"\n",
    "state_dict = torch.load(f=WEIGHTS_PATH, map_location=device)\n",
    "swinv2b.load_state_dict(state_dict=state_dict)"
   ]
  },
  {
   "cell_type": "markdown",
   "id": "0b7ff5ef",
   "metadata": {},
   "source": [
    "### RegNetY16GF\n"
   ]
  },
  {
   "cell_type": "code",
   "execution_count": 8,
   "id": "08bae29d",
   "metadata": {},
   "outputs": [
    {
     "data": {
      "text/plain": [
       "<All keys matched successfully>"
      ]
     },
     "execution_count": 8,
     "metadata": {},
     "output_type": "execute_result"
    }
   ],
   "source": [
    "MODEL_NAME = \"regnety16gf\"\n",
    "EPOCH = 5\n",
    "\n",
    "# Rebuilding Model\n",
    "regnety16gf = models.regnet_y_16gf()\n",
    "regnety16gf.fc = nn.Linear(\n",
    "    in_features=3024, out_features=num_classes, bias=True)\n",
    "regnety16gf.to(device)\n",
    "\n",
    "# Loading weights\n",
    "WEIGHTS_PATH = OUTPUTS_PATH / MODEL_NAME / \\\n",
    "    \"weights\" / f\"{MODEL_NAME}_epoch{EPOCH}.pth\"\n",
    "state_dict = torch.load(f=WEIGHTS_PATH, map_location=device)\n",
    "regnety16gf.load_state_dict(state_dict=state_dict)"
   ]
  },
  {
   "cell_type": "markdown",
   "id": "40d27101",
   "metadata": {},
   "source": [
    "### Resnet50\n"
   ]
  },
  {
   "cell_type": "code",
   "execution_count": 9,
   "id": "de52c1cc",
   "metadata": {},
   "outputs": [
    {
     "data": {
      "text/plain": [
       "<All keys matched successfully>"
      ]
     },
     "execution_count": 9,
     "metadata": {},
     "output_type": "execute_result"
    }
   ],
   "source": [
    "MODEL_NAME = \"resnet50\"\n",
    "EPOCH = 5\n",
    "\n",
    "# Rebuilding Model\n",
    "resnet50 = models.resnet50()\n",
    "resnet50.fc = nn.Linear(in_features=2048, out_features=num_classes, bias=True)\n",
    "resnet50.to(device)\n",
    "\n",
    "# Loading weights\n",
    "WEIGHTS_PATH = OUTPUTS_PATH / MODEL_NAME / \\\n",
    "    \"weights\" / f\"{MODEL_NAME}_epoch{EPOCH}.pth\"\n",
    "state_dict = torch.load(f=WEIGHTS_PATH, map_location=device)\n",
    "resnet50.load_state_dict(state_dict=state_dict)"
   ]
  },
  {
   "cell_type": "markdown",
   "id": "5a1e26ab",
   "metadata": {},
   "source": [
    "### VGG16\n"
   ]
  },
  {
   "cell_type": "code",
   "execution_count": 26,
   "id": "137b5693",
   "metadata": {},
   "outputs": [
    {
     "data": {
      "text/plain": [
       "<All keys matched successfully>"
      ]
     },
     "execution_count": 26,
     "metadata": {},
     "output_type": "execute_result"
    }
   ],
   "source": [
    "MODEL_NAME = \"vgg16\"\n",
    "EPOCH = 5\n",
    "\n",
    "# Rebuilding Model\n",
    "vgg16 = models.vgg16()\n",
    "# Change VGG16 to output 10 classes\n",
    "vgg16.classifier[6] = nn.Linear(in_features=4096, out_features=num_classes)\n",
    "vgg16 = vgg16.to(device)\n",
    "\n",
    "# Loading weights\n",
    "WEIGHTS_PATH = OUTPUTS_PATH / MODEL_NAME / \\\n",
    "    \"weights\" / f\"{MODEL_NAME}_epoch{EPOCH}.pth\"\n",
    "state_dict = torch.load(f=WEIGHTS_PATH, map_location=device)\n",
    "vgg16.load_state_dict(state_dict=state_dict)"
   ]
  },
  {
   "cell_type": "markdown",
   "id": "bda48d82",
   "metadata": {},
   "source": [
    "## Ensemble Learning\n"
   ]
  },
  {
   "cell_type": "code",
   "execution_count": 27,
   "id": "49b87999",
   "metadata": {},
   "outputs": [],
   "source": [
    "model_list = [efficientnetv2s.eval(),\n",
    "              swinv2b.eval(),\n",
    "              regnety16gf.eval(),\n",
    "              resnet50.eval(),\n",
    "              vgg16.eval()]\n",
    "\n",
    "model_accuracies = [0.88, 0.90, 0.85, 0.75, 0.72]"
   ]
  },
  {
   "cell_type": "code",
   "execution_count": 29,
   "id": "9353150b",
   "metadata": {},
   "outputs": [],
   "source": [
    "from tqdm import tqdm\n",
    "import torch\n",
    "\n",
    "\n",
    "def evaluate_ensemble(model_list, weights, dataloader, device):\n",
    "    model_weights = torch.tensor(weights, dtype=torch.float32)\n",
    "    model_weights /= model_weights.sum()\n",
    "\n",
    "    all_preds = []\n",
    "    all_labels = []\n",
    "\n",
    "    for model in model_list:\n",
    "        model.to(device)\n",
    "        model.eval()\n",
    "\n",
    "    with torch.inference_mode():\n",
    "        for images, labels in tqdm(dataloader, desc=\"Evaluating Ensemble\"):\n",
    "            images = images.to(device)\n",
    "            labels = labels.to(device)\n",
    "\n",
    "            probs = []\n",
    "            for model in model_list:\n",
    "                outputs = model(images)\n",
    "                prob = torch.softmax(outputs, dim=1)\n",
    "                probs.append(prob)\n",
    "\n",
    "            # (num_models, batch_size, num_classes)\n",
    "            stacked_probs = torch.stack(probs)\n",
    "            weighted_probs = torch.sum(\n",
    "                stacked_probs * model_weights[:, None, None], dim=0)\n",
    "            preds = torch.argmax(weighted_probs, dim=1)\n",
    "\n",
    "            all_preds.append(preds)\n",
    "            all_labels.append(labels)\n",
    "\n",
    "    return torch.cat(all_preds), torch.cat(all_labels)"
   ]
  },
  {
   "cell_type": "code",
   "execution_count": 30,
   "id": "be7da6cc",
   "metadata": {},
   "outputs": [
    {
     "name": "stderr",
     "output_type": "stream",
     "text": [
      "Evaluating Ensemble:   0%|          | 0/10 [00:00<?, ?it/s]"
     ]
    },
    {
     "name": "stderr",
     "output_type": "stream",
     "text": [
      "Evaluating Ensemble: 100%|██████████| 10/10 [01:57<00:00, 11.73s/it]\n"
     ]
    },
    {
     "data": {
      "image/png": "[encoded data removed]",
      "text/plain": [
       "<Figure size 1000x700 with 1 Axes>"
      ]
     },
     "metadata": {},
     "output_type": "display_data"
    }
   ],
   "source": [
    "import matplotlib.pyplot as plt\n",
    "from torchmetrics import ConfusionMatrix\n",
    "from mlxtend.plotting import plot_confusion_matrix\n",
    "\n",
    "y_preds, y_true = evaluate_ensemble(\n",
    "    model_list, model_accuracies, test_dataloader, device)\n",
    "\n",
    "\n",
    "conf_mat = ConfusionMatrix(task=\"multiclass\", num_classes=len(class_names))\n",
    "conf_mat_tensor = conf_mat(y_preds, y_true)\n",
    "\n",
    "fig, ax = plot_confusion_matrix(\n",
    "    conf_mat=conf_mat_tensor.numpy(), class_names=class_names, figsize=(10, 7))"
   ]
  },
  {
   "cell_type": "code",
   "execution_count": 32,
   "id": "016a6204",
   "metadata": {},
   "outputs": [
    {
     "name": "stdout",
     "output_type": "stream",
     "text": [
      "                            precision    recall  f1-score   support\n",
      "\n",
      "Acral Lentiginous Melanoma       0.94      0.97      0.96        35\n",
      "                Beaus Line       1.00      0.61      0.76        36\n",
      "               Blue Finger       0.83      0.96      0.89        25\n",
      "                  Clubbing       0.87      0.82      0.85        40\n",
      "              Healthy Nail       1.00      0.91      0.95        33\n",
      "               Koilonychia       0.61      1.00      0.76        17\n",
      "           Muehrckes Lines       0.88      0.93      0.90        15\n",
      "           Onychogryphosis       0.97      0.97      0.97        34\n",
      "                   Pitting       0.94      0.94      0.94        32\n",
      "              Terry-s Nail       0.90      0.95      0.93        40\n",
      "\n",
      "                  accuracy                           0.90       307\n",
      "                 macro avg       0.89      0.91      0.89       307\n",
      "              weighted avg       0.91      0.90      0.90       307\n",
      "\n",
      "Correct Predictions: 275\n",
      "Wrong Predictions: 32\n",
      "Total: 307\n"
     ]
    }
   ],
   "source": [
    "from sklearn.metrics import classification_report\n",
    "report = classification_report(y_preds, y_true, target_names=class_names)\n",
    "print(report)\n",
    "\n",
    "correct = sum(y_preds == y_true).item()\n",
    "wrong = sum(y_preds != y_true).item()\n",
    "total = len(y_true)\n",
    "\n",
    "print(f\"Correct Predictions: {correct}\")\n",
    "print(f\"Wrong Predictions: {wrong}\")\n",
    "print(f\"Total: {total}\")"
   ]
  }
 ],
 "metadata": {
  "kernelspec": {
   "display_name": ".venv",
   "language": "python",
   "name": "python3"
  },
  "language_info": {
   "codemirror_mode": {
    "name": "ipython",
    "version": 3
   },
   "file_extension": ".py",
   "mimetype": "text/x-python",
   "name": "python",
   "nbconvert_exporter": "python",
   "pygments_lexer": "ipython3",
   "version": "3.13.5"
  }
 },
 "nbformat": 4,
 "nbformat_minor": 5
}
